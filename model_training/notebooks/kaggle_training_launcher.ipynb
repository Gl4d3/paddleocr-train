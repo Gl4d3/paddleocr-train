 {
 "cells": [
  {
   "cell_type": "markdown",
   "metadata": {},
   "source": [
    "# PaddleOCR Training Launcher for Kaggle\n",
    "\n",
    "This notebook sets up and launches PaddleOCR training on Kaggle GPUs.\n",
    "\n",
    "## Instructions:\n",
    "1. Upload your training data to Kaggle Datasets as 'paddleocr-training-data'\n",
    "2. Add your GitHub repo 'Gl4d3/paddleocr-train' as a Kaggle Dataset 'github-paddleocr-training'\n",
    "3. Run this notebook in a Kaggle environment with GPU enabled"
   ]
  },
  {
   "cell_type": "markdown",
   "metadata": {},
   "source": [
    "## 1. Check GPU Availability"
   ]
  },
  {
   "cell_type": "code",
   "execution_count": null,
   "metadata": {},
   "outputs": [],
   "source": [
    "!nvidia-smi"
   ]
  },
  {
   "cell_type": "markdown",
   "metadata": {},
   "source": [
    "## 2. Install Required Packages"
   ]
  },
  {
   "cell_type": "code",
   "execution_count": null,
   "metadata": {},
   "outputs": [],
   "source": [
    "!pip install -q paddlepaddle-gpu==2.4.2\n",
    "!pip install -q mlflow paddleocr visualdl opencv-python lmdb imgaug pyclipper scikit-image"
   ]
  },
  {
   "cell_type": "markdown",
   "metadata": {},
   "source": [
    "## 3. Set Up MLflow Tracking"
   ]
  },
  {
   "cell_type": "code",
   "execution_count": null,
   "metadata": {},
   "outputs": [],
   "source": [
    "import os\n",
    "import mlflow\n",
    "from mlflow.tracking import MlflowClient\n",
    "\n",
    "# Set up MLflow locally (you can change this to a remote server if needed)\n",
    "os.makedirs('/kaggle/working/mlruns', exist_ok=True)\n",
    "mlflow.set_tracking_uri('file:///kaggle/working/mlruns')\n",
    "os.environ['MLFLOW_TRACKING_URI'] = 'file:///kaggle/working/mlruns'\n",
    "\n",
    "# Create the experiment\n",
    "experiment_name = 'paddleocr_training'\n",
    "mlflow.set_experiment(experiment_name)\n",
    "\n",
    "print(f\"MLflow tracking at: {mlflow.get_tracking_uri()}\")\n",
    "print(f\"MLflow experiment: {experiment_name}\")"
   ]
  },
  {
   "cell_type": "markdown",
   "metadata": {},
   "source": [
    "## 4. Get PaddleOCR Code from GitHub Repository\n",
    "\n",
    "This will use the GitHub repository you've set up."
   ]
  },
  {
   "cell_type": "code",
   "execution_count": null,
   "metadata": {},
   "outputs": [],
   "source": [
    "# Check if dataset exists\n",
    "if os.path.exists('/kaggle/input/github-paddleocr-training'):\n",
    "    print(\"Found GitHub repository dataset\")\n",
    "    !ls -la /kaggle/input/github-paddleocr-training\n",
    "else:\n",
    "    print(\"GitHub repository dataset not found, cloning directly...\")\n",
    "    !git clone https://github.com/Gl4d3/paddleocr-train.git /kaggle/working/paddleocr"
   ]
  },
  {
   "cell_type": "code",
   "execution_count": null,
   "metadata": {},
   "outputs": [],
   "source": [
    "# Set up PaddleOCR from dataset\n",
    "!cp -r /kaggle/input/github-paddleocr-training /kaggle/working/paddleocr\n",
    "\n",
    "# Check structure\n",
    "!ls -la /kaggle/working/paddleocr"
   ]
  },
  {
   "cell_type": "markdown",
   "metadata": {},
   "source": [
    "## 5. Check Training Data\n",
    "\n",
    "Make sure your training data is properly uploaded to Kaggle."
   ]
  },
  {
   "cell_type": "code",
   "execution_count": null,
   "metadata": {},
   "outputs": [],
   "source": [
    "# Check if training data exists\n",
    "if os.path.exists('/kaggle/input/paddleocr-training-data'):\n",
    "    print(\"Found training data dataset\")\n",
    "    !ls -la /kaggle/input/paddleocr-training-data\n",
    "else:\n",
    "    print(\"Training data dataset not found! Please upload your training data to Kaggle Datasets.\")\n",
    "    print(\"This notebook will continue but training may fail without data.\")"
   ]
  },
  {
   "cell_type": "markdown",
   "metadata": {},
   "source": [
    "## 6. Copy Training Script to Working Directory"
   ]
  },
  {
   "cell_type": "code",
   "execution_count": null,
   "metadata": {},
   "outputs": [],
   "source": [
    "!cp /kaggle/working/paddleocr/model_training/notebooks/kaggle_training.py /kaggle/working/"
   ]
  },
  {
   "cell_type": "markdown",
   "metadata": {},
   "source": [
    "## 7. Run Training\n",
    "\n",
    "You can customize the training by adjusting the parameters below."
   ]
  },
  {
   "cell_type": "code",
   "execution_count": null,
   "metadata": {},
   "outputs": [],
   "source": [
    "# Set training parameters\n",
    "det_dataset_dir = '/kaggle/working/dataset/det_dataset_1'\n",
    "rec_dataset_dir = '/kaggle/working/dataset/rec_dataset_1'\n",
    "train_data_dir = '/kaggle/working/train_data/meter_detection'\n",
    "max_det_epochs = 200  # Reduce for testing, increase for production\n",
    "max_rec_epochs = 300  # Reduce for testing, increase for production\n",
    "\n",
    "# Build command\n",
    "cmd = f\"\"\"python /kaggle/working/kaggle_training.py \\\n",
    "    --exp_name='paddleocr_training' \\\n",
    "    --tracking_uri='file:///kaggle/working/mlruns' \\\n",
    "    --det_dataset_dir='{det_dataset_dir}' \\\n",
    "    --rec_dataset_dir='{rec_dataset_dir}' \\\n",
    "    --train_data_dir='{train_data_dir}' \\\n",
    "    --gpu_ids='0' \\\n",
    "    --max_det_epochs={max_det_epochs} \\\n",
    "    --max_rec_epochs={max_rec_epochs} \\\n",
    "    --det_batch_size=8 \\\n",
    "    --rec_batch_size=64\n",
    "\"\"\"\n",
    "\n",
    "print(f\"Training command:\\n{cmd}\")"
   ]
  },
  {
   "cell_type": "code",
   "execution_count": null,
   "metadata": {},
   "outputs": [],
   "source": [
    "# Run training\n",
    "!$cmd"
   ]
  },
  {
   "cell_type": "markdown",
   "metadata": {},
   "source": [
    "## 8. View Training Results and Metrics"
   ]
  },
  {
   "cell_type": "code",
   "execution_count": null,
   "metadata": {},
   "outputs": [],
   "source": [
    "# List saved models\n",
    "!ls -la /kaggle/working/trained_models.zip"
   ]
  },
  {
   "cell_type": "code",
   "execution_count": null,
   "metadata": {},
   "outputs": [],
   "source": [
    "# Display MLflow results\n",
    "import mlflow\n",
    "from mlflow.tracking import MlflowClient\n",
    "\n",
    "client = MlflowClient()\n",
    "experiment = client.get_experiment_by_name(\"paddleocr_training\")\n",
    "runs = client.search_runs(experiment_ids=[experiment.experiment_id])\n",
    "\n",
    "for run in runs:\n",
    "    print(f\"Run ID: {run.info.run_id}\")\n",
    "    print(f\"Status: {run.info.status}\")\n",
    "    print(\"Parameters:\")\n",
    "    for k, v in run.data.params.items():\n",
    "        print(f\"  {k}: {v}\")\n",
    "    print(\"Metrics:\")\n",
    "    for k, v in run.data.metrics.items():\n",
    "        print(f\"  {k}: {v}\")\n",
    "    print(\"====================================\")"
   ]
  },
  {
   "cell_type": "markdown",
   "metadata": {},
   "source": [
    "## 9. Package Results for Download\n",
    "\n",
    "The trained models are already packaged into `trained_models.zip` which can be downloaded from Kaggle."
   ]
  },
  {
   "cell_type": "code",
   "execution_count": null,
   "metadata": {},
   "outputs": [],
   "source": [
    "# Create MLflow artifacts archive\n",
    "!mkdir -p /kaggle/working/mlflow_artifacts\n",
    "!cp -r /kaggle/working/mlruns /kaggle/working/mlflow_artifacts/\n",
    "!zip -r /kaggle/working/mlflow_artifacts.zip /kaggle/working/mlflow_artifacts\n",
    "\n",
    "print(\"Training artifacts ready for download:\")\n",
    "print(\" - /kaggle/working/trained_models.zip - Trained models\")\n",
    "print(\" - /kaggle/working/mlflow_artifacts.zip - MLflow logs and metrics\")"
   ]
  }
 ],
 "metadata": {
  "kernelspec": {
   "display_name": "Python 3",
   "language": "python",
   "name": "python3"
  },
  "language_info": {
   "codemirror_mode": {
    "name": "ipython",
    "version": 3
   },
   "file_extension": ".py",
   "mimetype": "text/x-python",
   "name": "python",
   "nbconvert_exporter": "python",
   "pygments_lexer": "ipython3",
   "version": "3.10.0"
  }
 },
 "nbformat": 4,
 "nbformat_minor": 4
}